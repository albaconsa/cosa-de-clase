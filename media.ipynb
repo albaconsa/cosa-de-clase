{
  "nbformat": 4,
  "nbformat_minor": 0,
  "metadata": {
    "colab": {
      "provenance": [],
      "authorship_tag": "ABX9TyPu+NF28fjQ5abEmBk6RUQt",
      "include_colab_link": true
    },
    "kernelspec": {
      "name": "python3",
      "display_name": "Python 3"
    },
    "language_info": {
      "name": "python"
    }
  },
  "cells": [
    {
      "cell_type": "markdown",
      "metadata": {
        "id": "view-in-github",
        "colab_type": "text"
      },
      "source": [
        "<a href=\"https://colab.research.google.com/github/albaconsa/cosa-de-clase/blob/main/media.ipynb\" target=\"_parent\"><img src=\"https://colab.research.google.com/assets/colab-badge.svg\" alt=\"Open In Colab\"/></a>"
      ]
    },
    {
      "cell_type": "code",
      "source": [
        "def mediaAritmetica(numeros):\n",
        "  suma=0\n",
        "  for numero in numeros : \n",
        "   suma += float(numero)\n",
        "   media=(round(suma/len(numeros),2))\n",
        "  return(media)\n"
      ],
      "metadata": {
        "id": "BTHltu-IAchg"
      },
      "execution_count": null,
      "outputs": []
    },
    {
      "cell_type": "code",
      "source": [
        "import csv\n",
        "with open(\"temperaturas2019.txt\",\"r\") as file:\n",
        "  reader=csv.reader(file)\n",
        "  for row in reader:\n",
        "    print(row)"
      ],
      "metadata": {
        "id": "iQn2Yurg5Ky8"
      },
      "execution_count": null,
      "outputs": []
    },
    {
      "cell_type": "code",
      "source": [
        "arch1=\"temperaturas2019.txt\"\n",
        "arch2=\"mediastemperaturas.txt\"\n",
        "with open(arch1, \"r\") as fila:\n",
        "  with open(arch2, \"w\") as fila2:\n",
        "    for line in fila:     \n",
        "      fila2.write(mediaAritmetica(line))\n",
        "    \n"
      ],
      "metadata": {
        "id": "y0lw5_Egsyf0"
      },
      "execution_count": null,
      "outputs": []
    },
    {
      "cell_type": "code",
      "source": [
        "with open(arch2, \"r\") as fila2:\n",
        "   print(fila2.read())"
      ],
      "metadata": {
        "colab": {
          "base_uri": "https://localhost:8080/"
        },
        "id": "TxwhmMry34D5",
        "outputId": "92ae9dff-2120-4ed9-eb98-7a19a75d8e12"
      },
      "execution_count": null,
      "outputs": [
        {
          "output_type": "stream",
          "name": "stdout",
          "text": [
            "\n"
          ]
        }
      ]
    },
    {
      "cell_type": "code",
      "source": [
        "!wget https://github.com/albaconsa/notebooks/blob/main/temperaturas2019.txt"
      ],
      "metadata": {
        "id": "HlprZo9guxGY",
        "colab": {
          "base_uri": "https://localhost:8080/"
        },
        "outputId": "b766fe2a-a43d-4493-c380-1c9586e4b768"
      },
      "execution_count": null,
      "outputs": [
        {
          "output_type": "stream",
          "name": "stdout",
          "text": [
            "--2023-01-09 23:32:46--  https://github.com/albaconsa/notebooks/blob/main/temperaturas2019.txt\n",
            "Resolving github.com (github.com)... 140.82.113.4\n",
            "Connecting to github.com (github.com)|140.82.113.4|:443... connected.\n",
            "HTTP request sent, awaiting response... 200 OK\n",
            "Length: unspecified [text/html]\n",
            "Saving to: ‘temperaturas2019.txt.1’\n",
            "\n",
            "temperaturas2019.tx     [ <=>                ] 148.95K   773KB/s    in 0.2s    \n",
            "\n",
            "2023-01-09 23:32:47 (773 KB/s) - ‘temperaturas2019.txt.1’ saved [152525]\n",
            "\n"
          ]
        }
      ]
    }
  ]
}